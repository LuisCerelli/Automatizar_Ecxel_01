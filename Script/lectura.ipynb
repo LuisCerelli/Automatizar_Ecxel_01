{
 "cells": [
  {
   "cell_type": "code",
   "execution_count": 23,
   "metadata": {},
   "outputs": [
    {
     "name": "stdout",
     "output_type": "stream",
     "text": [
      "/usr/local/bin/python3\n"
     ]
    }
   ],
   "source": [
    "import sys\n",
    "print(sys.executable)"
   ]
  },
  {
   "cell_type": "code",
   "execution_count": 17,
   "metadata": {},
   "outputs": [],
   "source": [
    "import pandas as pd\n",
    "\n",
    "input_cols = [3,4,5,6,7,12]\n",
    "\n",
    "df = pd.read_csv('/Users/luisalbertocerelli/Desktop/00-Todo/00-Practicas_Data_Engineer/07_Automatizar_Excel_con_Python/Input/supermarket_sales - Sheet1.csv', header=0, usecols=input_cols)\n"
   ]
  },
  {
   "cell_type": "code",
   "execution_count": 18,
   "metadata": {},
   "outputs": [],
   "source": [
    "df = df[df['Payment'] == 'Cash'] "
   ]
  },
  {
   "cell_type": "code",
   "execution_count": 19,
   "metadata": {},
   "outputs": [],
   "source": [
    "df_cols = df.columns"
   ]
  },
  {
   "cell_type": "code",
   "execution_count": 20,
   "metadata": {},
   "outputs": [
    {
     "name": "stdout",
     "output_type": "stream",
     "text": [
      "1     Normal\n",
      "11    Member\n",
      "14    Normal\n",
      "15    Member\n",
      "26    Normal\n",
      "Name: Customer type, dtype: object\n",
      "1     Female\n",
      "11      Male\n",
      "14    Female\n",
      "15    Female\n",
      "26      Male\n",
      "Name: Gender, dtype: object\n",
      "1     Electronic accessories\n",
      "11    Electronic accessories\n",
      "14         Health and beauty\n",
      "15         Sports and travel\n",
      "26       Fashion accessories\n",
      "Name: Product line, dtype: object\n",
      "1     15.28\n",
      "11    25.51\n",
      "14    71.38\n",
      "15    93.72\n",
      "26    33.52\n",
      "Name: Unit price, dtype: float64\n",
      "1      5\n",
      "11     4\n",
      "14    10\n",
      "15     6\n",
      "26     1\n",
      "Name: Quantity, dtype: int64\n",
      "1     Cash\n",
      "11    Cash\n",
      "14    Cash\n",
      "15    Cash\n",
      "26    Cash\n",
      "Name: Payment, dtype: object\n"
     ]
    }
   ],
   "source": [
    "for col in df_cols:\n",
    "    print(df[col].head())"
   ]
  },
  {
   "cell_type": "code",
   "execution_count": 22,
   "metadata": {},
   "outputs": [],
   "source": [
    "df.to_csv('/Users/luisalbertocerelli/Desktop/00-Todo/00-Practicas_Data_Engineer/07_Automatizar_Excel_con_Python/Output/ejemplo.csv',\n",
    "          sep=',',\n",
    "          header=True,\n",
    "          index=False)"
   ]
  }
 ],
 "metadata": {
  "kernelspec": {
   "display_name": "Python 3",
   "language": "python",
   "name": "python3"
  },
  "language_info": {
   "codemirror_mode": {
    "name": "ipython",
    "version": 3
   },
   "file_extension": ".py",
   "mimetype": "text/x-python",
   "name": "python",
   "nbconvert_exporter": "python",
   "pygments_lexer": "ipython3",
   "version": "3.12.3"
  }
 },
 "nbformat": 4,
 "nbformat_minor": 2
}
